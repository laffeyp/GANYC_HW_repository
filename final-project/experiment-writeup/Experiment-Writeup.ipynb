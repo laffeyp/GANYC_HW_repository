{
 "cells": [
  {
   "cell_type": "markdown",
   "metadata": {},
   "source": [
    "### Project Problem and Hypothesis\n",
    "\n"
   ]
  },
  {
   "cell_type": "markdown",
   "metadata": {},
   "source": [
    "My project deals with predicting the price of bitcoin. As a machine learning problem, it can fall under the category of predicting a continuous number or a binary value, depending on how the data is organized. Currently, I think that the lagged price will have the most impact in predicting the future price, but I will also expand my dataset to include other parameters. "
   ]
  },
  {
   "cell_type": "markdown",
   "metadata": {},
   "source": [
    "### Datasets"
   ]
  },
  {
   "cell_type": "markdown",
   "metadata": {},
   "source": [
    "Currently I am using historical price data from the Coinbase exchange - this consists only of a Unix timestamp and the price of Bitcoin in USD. I may expand this to include the order book data, and other relevant data, like the price of Bitcoin on other exchanges. Possibly, Bitcoin may have some relation with other assets, such as stock prices, and if neccessary I will also explore that area. "
   ]
  },
  {
   "cell_type": "markdown",
   "metadata": {},
   "source": [
    "### Domain Knowledge"
   ]
  },
  {
   "cell_type": "markdown",
   "metadata": {},
   "source": [
    "While I have no experience trading, one of my majors is Economics, so I am familiar in general with the conventional academic wisdom about financial markets, and have taken classes in Econometrics. However, many other reasearch efforts exist, including some very successful attempts at predicting bitcoin price from PHD students at MIT and Stanford. I am attempting to use those as a template while adjusting some of the methods to correspond more closely to my skill level. "
   ]
  },
  {
   "cell_type": "markdown",
   "metadata": {},
   "source": [
    "### Project Concerns"
   ]
  },
  {
   "cell_type": "markdown",
   "metadata": {},
   "source": [
    "Currently, I have several concerns. First and foremost is the nature of the data - time series data has its own special issues that I am not yet familiar with. Will I need to transform the data in some way to make better predictions, and why would that help? Is it better to work with the actual prices, or transform that into the daily percentage changes or even into a categorical \"up , down, unchanged\" so that I can use classification methods? Would it be better to use different models, say one with 10 lags, one with 50, and one with 100, and then average them? Finally, is it ok to resample the data, which is currently second-based, or will that change my prediction accuracy? \n",
    "\n",
    "Assumptions I am currently making include the idea that it is in fact possible to predict prices, i.e. that prices do not in fact take a random walk. \n",
    "\n",
    "As to risks, there are really none, but benefits include the realization of a much better Bitcoin trading strategy. \n",
    "\n"
   ]
  },
  {
   "cell_type": "markdown",
   "metadata": {},
   "source": [
    "### Outcomes"
   ]
  },
  {
   "cell_type": "markdown",
   "metadata": {},
   "source": [
    "I expect the outcome to actually be positive, but to encounter many complications in specifying the model. While I do not actually expect at my skill level to be able to perfectly predict the price, I do expect to learn a great deal about how one would do that. The model itself does not have to be too complicated, but it may be neccessary to perform some relativly complicated transformations on the data, or to begin to add new data aside from historical prices. If the project is a bust, I will need to do a lot more research and try again!"
   ]
  },
  {
   "cell_type": "code",
   "execution_count": null,
   "metadata": {
    "collapsed": true
   },
   "outputs": [],
   "source": []
  },
  {
   "cell_type": "code",
   "execution_count": null,
   "metadata": {
    "collapsed": true
   },
   "outputs": [],
   "source": []
  }
 ],
 "metadata": {
  "kernelspec": {
   "display_name": "Python 2",
   "language": "python",
   "name": "python2"
  },
  "language_info": {
   "codemirror_mode": {
    "name": "ipython",
    "version": 2
   },
   "file_extension": ".py",
   "mimetype": "text/x-python",
   "name": "python",
   "nbconvert_exporter": "python",
   "pygments_lexer": "ipython2",
   "version": "2.7.11"
  }
 },
 "nbformat": 4,
 "nbformat_minor": 0
}
